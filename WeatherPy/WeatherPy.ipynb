{
 "cells": [
  {
   "cell_type": "markdown",
   "metadata": {},
   "source": [
    "# WeatherPy\n",
    "----\n",
    "\n",
    "#### Note\n",
    "* Instructions have been included for each segment. You do not have to follow them exactly, but they are included to help you think through the steps."
   ]
  },
  {
   "cell_type": "code",
   "execution_count": 1,
   "metadata": {},
   "outputs": [
    {
     "name": "stdout",
     "output_type": "stream",
     "text": [
      "Requirement already satisfied: citipy in /Users/Clayton/Desktop/anaconda3/envs/PythonData/lib/python3.7/site-packages (0.0.5)\n",
      "Requirement already satisfied: kdtree>=0.12 in /Users/Clayton/Desktop/anaconda3/envs/PythonData/lib/python3.7/site-packages (from citipy) (0.16)\n",
      "Note: you may need to restart the kernel to use updated packages.\n"
     ]
    }
   ],
   "source": [
    "#pip install citipy"
   ]
  },
  {
   "cell_type": "code",
   "execution_count": 20,
   "metadata": {
    "scrolled": true
   },
   "outputs": [],
   "source": [
    "# Dependencies and Setup\n",
    "import matplotlib.pyplot as plt\n",
    "import pandas as pd\n",
    "import numpy as np\n",
    "import requests\n",
    "import time\n",
    "from scipy.stats import linregress\n",
    "\n",
    "# Import API key\n",
    "from config import weather_api_key\n",
    "\n",
    "# Incorporated citipy to determine city based on latitude and longitude\n",
    "from citipy import citipy\n",
    "\n",
    "# Output File (CSV)\n",
    "output_data = \"../Output Data File/output_data.csv\"\n",
    "\n",
    "# Range of latitudes and longitudes\n",
    "lat_range = (-90, 90)\n",
    "lng_range = (-180, 180)"
   ]
  },
  {
   "cell_type": "markdown",
   "metadata": {},
   "source": [
    "## Generate Cities List"
   ]
  },
  {
   "cell_type": "code",
   "execution_count": 2,
   "metadata": {},
   "outputs": [
    {
     "data": {
      "text/plain": [
       "609"
      ]
     },
     "execution_count": 2,
     "metadata": {},
     "output_type": "execute_result"
    }
   ],
   "source": [
    "# List for holding lat_lngs and cities\n",
    "lat_lngs = []\n",
    "cities = []\n",
    "\n",
    "# Create a set of random lat and lng combinations\n",
    "lats = np.random.uniform(lat_range[0], lat_range[1], size=1500)\n",
    "lngs = np.random.uniform(lng_range[0], lng_range[1], size=1500)\n",
    "lat_lngs = zip(lats, lngs)\n",
    "\n",
    "# Identify nearest city for each lat, lng combination\n",
    "for lat_lng in lat_lngs:\n",
    "    city = citipy.nearest_city(lat_lng[0], lat_lng[1]).city_name\n",
    "    \n",
    "    # If the city is unique, then add it to a our cities list\n",
    "    if city not in cities:\n",
    "        cities.append(city)\n",
    "\n",
    "# Print the city count to confirm sufficient count\n",
    "len(cities)"
   ]
  },
  {
   "cell_type": "markdown",
   "metadata": {},
   "source": [
    "### Perform API Calls\n",
    "* Perform a weather check on each city using a series of successive API calls.\n",
    "* Include a print log of each city as it'sbeing processed (with the city number and city name).\n"
   ]
  },
  {
   "cell_type": "code",
   "execution_count": 3,
   "metadata": {},
   "outputs": [],
   "source": [
    "#Create empty df to store data for each city as for loop pulls queries\n",
    "\n",
    "city_wx = pd.DataFrame({\"City\":cities})\n",
    "city_wx[\"Lat\"]= \"\"\n",
    "city_wx[\"Lng\"]= \"\"\n",
    "city_wx[\"Max Temp\"] = \"\"\n",
    "city_wx[\"Humidity\"]= \"\"\n",
    "city_wx['Cloudiness'] = \"\"\n",
    "city_wx[\"Wind Speed\"]= \"\"\n",
    "city_wx[\"Country\"] = \"\"\n",
    "city_wx[\"Date\"] = \"\""
   ]
  },
  {
   "cell_type": "code",
   "execution_count": 13,
   "metadata": {},
   "outputs": [
    {
     "name": "stdout",
     "output_type": "stream",
     "text": [
      "Beginning Data Retrieval\n",
      "Processing Record 1 of 1 | praia da vitoria\n",
      "Processing Record 2 of 1 | samusu\n",
      "City not found. Skipping...\n",
      "Processing Record 3 of 1 | albany\n",
      "Processing Record 4 of 1 | avarua\n",
      "Processing Record 5 of 1 | hami\n",
      "Processing Record 6 of 1 | mataura\n",
      "Processing Record 7 of 1 | barbar\n",
      "City not found. Skipping...\n",
      "Processing Record 8 of 1 | ust-nera\n",
      "Processing Record 9 of 1 | ushuaia\n",
      "Processing Record 10 of 1 | tiksi\n",
      "Processing Record 11 of 1 | belushya guba\n",
      "City not found. Skipping...\n",
      "Processing Record 12 of 1 | ginir\n",
      "Processing Record 13 of 1 | bredasdorp\n",
      "Processing Record 14 of 1 | roscommon\n",
      "Processing Record 15 of 1 | karasuk\n",
      "Processing Record 16 of 1 | sharjah\n",
      "Processing Record 17 of 1 | arraial do cabo\n",
      "Processing Record 18 of 1 | lebu\n",
      "Processing Record 19 of 1 | punta arenas\n",
      "Processing Record 20 of 1 | bouafle\n",
      "Processing Record 21 of 1 | hobart\n",
      "Processing Record 22 of 1 | cayenne\n",
      "Processing Record 23 of 1 | abatskoye\n",
      "Processing Record 24 of 1 | touros\n",
      "Processing Record 25 of 1 | cabo san lucas\n",
      "Processing Record 26 of 1 | vaini\n",
      "Processing Record 27 of 1 | kiunga\n",
      "Processing Record 28 of 1 | saldanha\n",
      "Processing Record 29 of 1 | dunda\n",
      "Processing Record 30 of 1 | thinadhoo\n",
      "Processing Record 31 of 1 | ramnagar\n",
      "Processing Record 32 of 1 | rive-de-gier\n",
      "Processing Record 33 of 1 | narsaq\n",
      "Processing Record 34 of 1 | kruisfontein\n",
      "Processing Record 35 of 1 | macusani\n",
      "Processing Record 36 of 1 | soyo\n",
      "Processing Record 37 of 1 | grand river south east\n",
      "City not found. Skipping...\n",
      "Processing Record 38 of 1 | balkanabat\n",
      "Processing Record 39 of 1 | attingal\n",
      "Processing Record 40 of 1 | algeciras\n",
      "Processing Record 41 of 1 | longyearbyen\n",
      "Processing Record 42 of 1 | lang son\n",
      "Processing Record 43 of 1 | almeirim\n",
      "Processing Record 44 of 1 | tadine\n",
      "Processing Record 45 of 1 | meulaboh\n",
      "Processing Record 46 of 1 | rikitea\n",
      "Processing Record 47 of 1 | dicabisagan\n",
      "Processing Record 48 of 1 | chuy\n",
      "Processing Record 49 of 1 | kapaa\n",
      "Processing Record 50 of 1 | roma\n",
      "Processing Record 1 of 2 | samalaeulu\n",
      "City not found. Skipping...\n",
      "Processing Record 2 of 2 | provideniya\n",
      "Processing Record 3 of 2 | thompson\n",
      "Processing Record 4 of 2 | cherskiy\n",
      "Processing Record 5 of 2 | busselton\n",
      "Processing Record 6 of 2 | codrington\n",
      "Processing Record 7 of 2 | new norfolk\n",
      "Processing Record 8 of 2 | roald\n",
      "Processing Record 9 of 2 | barrow\n",
      "Processing Record 10 of 2 | saint anthony\n",
      "Processing Record 11 of 2 | labuhan\n",
      "Processing Record 12 of 2 | kryry\n",
      "Processing Record 13 of 2 | the valley\n",
      "Processing Record 14 of 2 | atuona\n",
      "Processing Record 15 of 2 | bluff\n",
      "Processing Record 16 of 2 | attawapiskat\n",
      "City not found. Skipping...\n",
      "Processing Record 17 of 2 | faanui\n",
      "Processing Record 18 of 2 | tasiilaq\n",
      "Processing Record 19 of 2 | tuktoyaktuk\n",
      "Processing Record 20 of 2 | cape town\n",
      "Processing Record 21 of 2 | vestmannaeyjar\n",
      "Processing Record 22 of 2 | manokwari\n",
      "Processing Record 23 of 2 | alyangula\n",
      "Processing Record 24 of 2 | aksarka\n",
      "Processing Record 25 of 2 | ancud\n",
      "Processing Record 26 of 2 | tuatapere\n",
      "Processing Record 27 of 2 | olafsvik\n",
      "Processing Record 28 of 2 | vostok\n",
      "Processing Record 29 of 2 | umzimvubu\n",
      "City not found. Skipping...\n",
      "Processing Record 30 of 2 | tura\n",
      "Processing Record 31 of 2 | balvi\n",
      "Processing Record 32 of 2 | ponta do sol\n",
      "Processing Record 33 of 2 | yellowknife\n",
      "Processing Record 34 of 2 | livingstonia\n",
      "Processing Record 35 of 2 | chumikan\n",
      "Processing Record 36 of 2 | kaitangata\n",
      "Processing Record 37 of 2 | hithadhoo\n",
      "Processing Record 38 of 2 | bonavista\n",
      "Processing Record 39 of 2 | hermanus\n",
      "Processing Record 40 of 2 | mahebourg\n",
      "Processing Record 41 of 2 | nikolskoye\n",
      "Processing Record 42 of 2 | charleston\n",
      "Processing Record 43 of 2 | grand gaube\n",
      "Processing Record 44 of 2 | souillac\n",
      "Processing Record 45 of 2 | illoqqortoormiut\n",
      "City not found. Skipping...\n",
      "Processing Record 46 of 2 | hofn\n",
      "Processing Record 47 of 2 | katsuura\n",
      "Processing Record 48 of 2 | ambunti\n",
      "Processing Record 49 of 2 | vila franca do campo\n",
      "Processing Record 50 of 2 | sabha\n",
      "Processing Record 1 of 3 | cidreira\n",
      "Processing Record 2 of 3 | encruzilhada\n",
      "Processing Record 3 of 3 | nanortalik\n",
      "Processing Record 4 of 3 | awbari\n",
      "Processing Record 5 of 3 | jamestown\n",
      "Processing Record 6 of 3 | camacha\n",
      "Processing Record 7 of 3 | taolanaro\n",
      "City not found. Skipping...\n",
      "Processing Record 8 of 3 | castro\n",
      "Processing Record 9 of 3 | kodiak\n",
      "Processing Record 10 of 3 | port blair\n",
      "Processing Record 11 of 3 | amderma\n",
      "City not found. Skipping...\n",
      "Processing Record 12 of 3 | katobu\n",
      "Processing Record 13 of 3 | sinnamary\n",
      "Processing Record 14 of 3 | dum duma\n",
      "Processing Record 15 of 3 | tazovskiy\n",
      "Processing Record 16 of 3 | torbay\n",
      "Processing Record 17 of 3 | palora\n",
      "Processing Record 18 of 3 | kholodnyy\n",
      "Processing Record 19 of 3 | lazaro cardenas\n",
      "Processing Record 20 of 3 | kahului\n",
      "Processing Record 21 of 3 | victoria\n",
      "Processing Record 22 of 3 | nizhneyansk\n",
      "City not found. Skipping...\n",
      "Processing Record 23 of 3 | pervomayskoye\n",
      "Processing Record 24 of 3 | fairbanks\n",
      "Processing Record 25 of 3 | georgetown\n",
      "Processing Record 26 of 3 | goderich\n",
      "Processing Record 27 of 3 | rocha\n",
      "Processing Record 28 of 3 | butaritari\n",
      "Processing Record 29 of 3 | sechura\n",
      "Processing Record 30 of 3 | pisco\n",
      "Processing Record 31 of 3 | razole\n",
      "Processing Record 32 of 3 | rocky mountain house\n",
      "Processing Record 33 of 3 | honiara\n",
      "Processing Record 34 of 3 | komsomolskiy\n",
      "Processing Record 35 of 3 | qaanaaq\n",
      "Processing Record 36 of 3 | san felipe\n",
      "Processing Record 37 of 3 | road town\n",
      "Processing Record 38 of 3 | carnarvon\n",
      "Processing Record 39 of 3 | kungurtug\n",
      "Processing Record 40 of 3 | acari\n",
      "Processing Record 41 of 3 | sitka\n",
      "Processing Record 42 of 3 | teya\n",
      "Processing Record 43 of 3 | havelock\n",
      "Processing Record 44 of 3 | hovd\n",
      "Processing Record 45 of 3 | pevek\n",
      "Processing Record 46 of 3 | bundaberg\n",
      "Processing Record 47 of 3 | mar del plata\n",
      "Processing Record 48 of 3 | kangaatsiaq\n",
      "Processing Record 49 of 3 | makakilo city\n",
      "Processing Record 50 of 3 | talnakh\n",
      "Processing Record 1 of 4 | saint-philippe\n",
      "Processing Record 2 of 4 | zhigansk\n",
      "Processing Record 3 of 4 | pacocha\n",
      "Processing Record 4 of 4 | jardim\n",
      "Processing Record 5 of 4 | kavieng\n",
      "Processing Record 6 of 4 | kushmurun\n",
      "Processing Record 7 of 4 | zyryanka\n",
      "Processing Record 8 of 4 | lugovskiy\n",
      "City not found. Skipping...\n",
      "Processing Record 9 of 4 | calvinia\n",
      "Processing Record 10 of 4 | tumannyy\n",
      "City not found. Skipping...\n",
      "Processing Record 11 of 4 | airai\n",
      "Processing Record 12 of 4 | havre-saint-pierre\n",
      "Processing Record 13 of 4 | jalu\n",
      "Processing Record 14 of 4 | estepona\n",
      "Processing Record 15 of 4 | noboribetsu\n",
      "Processing Record 16 of 4 | hilo\n",
      "Processing Record 17 of 4 | shingu\n",
      "Processing Record 18 of 4 | joshimath\n",
      "Processing Record 19 of 4 | isangel\n",
      "Processing Record 20 of 4 | college\n",
      "Processing Record 21 of 4 | bridlington\n",
      "Processing Record 22 of 4 | wattegama\n",
      "Processing Record 23 of 4 | elesbao veloso\n",
      "Processing Record 24 of 4 | upernavik\n",
      "Processing Record 25 of 4 | husavik\n",
      "Processing Record 26 of 4 | hasaki\n",
      "Processing Record 27 of 4 | smithers\n",
      "Processing Record 28 of 4 | riviere-au-renard\n",
      "Processing Record 29 of 4 | tecoanapa\n",
      "Processing Record 30 of 4 | chokurdakh\n",
      "Processing Record 31 of 4 | yuzhno-kurilsk\n",
      "Processing Record 32 of 4 | pontianak\n",
      "Processing Record 33 of 4 | taltal\n",
      "Processing Record 34 of 4 | grimari\n",
      "City not found. Skipping...\n",
      "Processing Record 35 of 4 | vengerovo\n",
      "Processing Record 36 of 4 | kazalinsk\n",
      "City not found. Skipping...\n",
      "Processing Record 37 of 4 | kamenka\n",
      "Processing Record 38 of 4 | arman\n",
      "Processing Record 39 of 4 | tsihombe\n",
      "City not found. Skipping...\n",
      "Processing Record 40 of 4 | severo-kurilsk\n",
      "Processing Record 41 of 4 | jieshi\n",
      "Processing Record 42 of 4 | laguna\n",
      "Processing Record 43 of 4 | rosetta\n",
      "Processing Record 44 of 4 | yibin\n",
      "Processing Record 45 of 4 | port alfred\n",
      "Processing Record 46 of 4 | hervey bay\n",
      "Processing Record 47 of 4 | garowe\n",
      "Processing Record 48 of 4 | iracoubo\n",
      "Processing Record 49 of 4 | abha\n",
      "Processing Record 50 of 4 | bondoukou\n",
      "Processing Record 1 of 5 | indramayu\n",
      "Processing Record 2 of 5 | shilka\n",
      "Processing Record 3 of 5 | henties bay\n",
      "Processing Record 4 of 5 | pastavy\n",
      "Processing Record 5 of 5 | hastings\n",
      "Processing Record 6 of 5 | koygorodok\n",
      "Processing Record 7 of 5 | turukhansk\n",
      "Processing Record 8 of 5 | eenhana\n",
      "Processing Record 9 of 5 | ruatoria\n",
      "City not found. Skipping...\n"
     ]
    },
    {
     "name": "stdout",
     "output_type": "stream",
     "text": [
      "Processing Record 10 of 5 | kiruna\n",
      "Processing Record 11 of 5 | ahome\n",
      "Processing Record 12 of 5 | shimoda\n",
      "Processing Record 13 of 5 | san quintin\n",
      "Processing Record 14 of 5 | manono\n",
      "Processing Record 15 of 5 | umm jarr\n",
      "City not found. Skipping...\n",
      "Processing Record 16 of 5 | kailua\n",
      "Processing Record 17 of 5 | iqaluit\n",
      "Processing Record 18 of 5 | yatou\n",
      "Processing Record 19 of 5 | simi\n",
      "Processing Record 20 of 5 | mgandu\n",
      "Processing Record 21 of 5 | udachnyy\n",
      "Processing Record 22 of 5 | suntar\n",
      "Processing Record 23 of 5 | bethel\n",
      "Processing Record 24 of 5 | kant\n",
      "Processing Record 25 of 5 | namatanai\n",
      "Processing Record 26 of 5 | zhuhai\n",
      "Processing Record 27 of 5 | richards bay\n",
      "Processing Record 28 of 5 | stokmarknes\n",
      "Processing Record 29 of 5 | sawtell\n",
      "Processing Record 30 of 5 | aksu\n",
      "Processing Record 31 of 5 | aku\n",
      "Processing Record 32 of 5 | abu kamal\n",
      "Processing Record 33 of 5 | barcelos\n",
      "Processing Record 34 of 5 | oistins\n",
      "Processing Record 35 of 5 | fortuna\n",
      "Processing Record 36 of 5 | aklavik\n",
      "Processing Record 37 of 5 | deputatskiy\n",
      "Processing Record 38 of 5 | port elizabeth\n",
      "Processing Record 39 of 5 | panzhihua\n",
      "Processing Record 40 of 5 | mount isa\n",
      "Processing Record 41 of 5 | vaitupu\n",
      "City not found. Skipping...\n",
      "Processing Record 42 of 5 | hunza\n",
      "City not found. Skipping...\n",
      "Processing Record 43 of 5 | pochutla\n",
      "Processing Record 44 of 5 | itarema\n",
      "Processing Record 45 of 5 | aguai\n",
      "Processing Record 46 of 5 | flinders\n",
      "Processing Record 47 of 5 | formosa\n",
      "Processing Record 48 of 5 | yar-sale\n",
      "Processing Record 49 of 5 | monywa\n",
      "Processing Record 50 of 5 | lovozero\n",
      "Processing Record 1 of 6 | barentsburg\n",
      "City not found. Skipping...\n",
      "Processing Record 2 of 6 | sao filipe\n",
      "Processing Record 3 of 6 | rauseni\n",
      "Processing Record 4 of 6 | longlac\n",
      "City not found. Skipping...\n",
      "Processing Record 5 of 6 | el balyana\n",
      "City not found. Skipping...\n",
      "Processing Record 6 of 6 | qingdao\n",
      "Processing Record 7 of 6 | morant bay\n",
      "Processing Record 8 of 6 | tual\n",
      "Processing Record 9 of 6 | saint george\n",
      "Processing Record 10 of 6 | lansdale\n",
      "Processing Record 11 of 6 | gamboma\n",
      "Processing Record 12 of 6 | mikkeli\n",
      "Processing Record 13 of 6 | puerto ayora\n",
      "Processing Record 14 of 6 | qixingtai\n",
      "Processing Record 15 of 6 | bambous virieux\n",
      "Processing Record 16 of 6 | tessalit\n",
      "Processing Record 17 of 6 | norman wells\n",
      "Processing Record 18 of 6 | seoul\n",
      "Processing Record 19 of 6 | olga\n",
      "Processing Record 20 of 6 | kamenskoye\n",
      "City not found. Skipping...\n",
      "Processing Record 21 of 6 | inhambane\n",
      "Processing Record 22 of 6 | esperance\n",
      "Processing Record 23 of 6 | huarmey\n",
      "Processing Record 24 of 6 | nguiu\n",
      "City not found. Skipping...\n",
      "Processing Record 25 of 6 | pemangkat\n",
      "Processing Record 26 of 6 | sisophon\n",
      "Processing Record 27 of 6 | khandyga\n",
      "Processing Record 28 of 6 | pilar\n",
      "Processing Record 29 of 6 | rawson\n",
      "Processing Record 30 of 6 | huanren\n",
      "Processing Record 31 of 6 | klaksvik\n",
      "Processing Record 32 of 6 | ucluelet\n",
      "Processing Record 33 of 6 | vao\n",
      "Processing Record 34 of 6 | guerrero negro\n",
      "Processing Record 35 of 6 | ipixuna\n",
      "Processing Record 36 of 6 | chapais\n",
      "Processing Record 37 of 6 | tolbazy\n",
      "Processing Record 38 of 6 | penzance\n",
      "Processing Record 39 of 6 | alofi\n",
      "Processing Record 40 of 6 | uusikaupunki\n",
      "Processing Record 41 of 6 | mys shmidta\n",
      "City not found. Skipping...\n",
      "Processing Record 42 of 6 | chortomlyk\n",
      "Processing Record 43 of 6 | datong\n",
      "Processing Record 44 of 6 | sibu\n",
      "Processing Record 45 of 6 | skaerbaek\n",
      "Processing Record 46 of 6 | mitsamiouli\n",
      "Processing Record 47 of 6 | kutum\n",
      "Processing Record 48 of 6 | shenjiamen\n",
      "Processing Record 49 of 6 | ginda\n",
      "Processing Record 50 of 6 | obo\n",
      "Processing Record 1 of 7 | dunedin\n",
      "Processing Record 2 of 7 | ribeira grande\n",
      "Processing Record 3 of 7 | lorengau\n",
      "Processing Record 4 of 7 | san patricio\n",
      "Processing Record 5 of 7 | clyde river\n",
      "Processing Record 6 of 7 | rabo de peixe\n",
      "Processing Record 7 of 7 | palmer\n",
      "Processing Record 8 of 7 | bodinayakkanur\n",
      "Processing Record 9 of 7 | ilembula\n",
      "Processing Record 10 of 7 | scarborough\n",
      "Processing Record 11 of 7 | bandipur\n",
      "Processing Record 12 of 7 | fort nelson\n",
      "Processing Record 13 of 7 | amapa\n",
      "Processing Record 14 of 7 | isla mujeres\n",
      "Processing Record 15 of 7 | boffa\n",
      "Processing Record 16 of 7 | qasigiannguit\n",
      "Processing Record 17 of 7 | shache\n",
      "Processing Record 18 of 7 | teguise\n",
      "Processing Record 19 of 7 | gondar\n",
      "Processing Record 20 of 7 | kidal\n",
      "Processing Record 21 of 7 | ondorhaan\n",
      "City not found. Skipping...\n",
      "Processing Record 22 of 7 | tabiauea\n",
      "City not found. Skipping...\n",
      "Processing Record 23 of 7 | karaul\n",
      "City not found. Skipping...\n",
      "Processing Record 24 of 7 | tasbuget\n",
      "City not found. Skipping...\n",
      "Processing Record 25 of 7 | ejura\n",
      "Processing Record 26 of 7 | sozopolis\n",
      "City not found. Skipping...\n",
      "Processing Record 27 of 7 | podgorica\n",
      "Processing Record 28 of 7 | pangnirtung\n",
      "Processing Record 29 of 7 | luena\n",
      "Processing Record 30 of 7 | ambovombe\n",
      "Processing Record 31 of 7 | vardo\n",
      "Processing Record 32 of 7 | simao\n",
      "Processing Record 33 of 7 | panaba\n",
      "Processing Record 34 of 7 | adrar\n",
      "Processing Record 35 of 7 | kuche\n",
      "City not found. Skipping...\n",
      "Processing Record 36 of 7 | yulara\n",
      "Processing Record 37 of 7 | lagoa\n",
      "Processing Record 38 of 7 | fonte boa\n",
      "Processing Record 39 of 7 | padang\n",
      "Processing Record 40 of 7 | scottsburgh\n",
      "City not found. Skipping...\n",
      "Processing Record 41 of 7 | hollins\n",
      "Processing Record 42 of 7 | pinotepa nacional\n",
      "Processing Record 43 of 7 | sioux lookout\n",
      "Processing Record 44 of 7 | saint-pierre\n",
      "Processing Record 45 of 7 | lander\n",
      "Processing Record 46 of 7 | geraldton\n",
      "Processing Record 47 of 7 | big spring\n",
      "Processing Record 48 of 7 | itacare\n",
      "Processing Record 49 of 7 | taksimo\n",
      "Processing Record 50 of 7 | taoudenni\n",
      "Processing Record 1 of 8 | matamoros\n",
      "Processing Record 2 of 8 | srednekolymsk\n",
      "Processing Record 3 of 8 | hihifo\n",
      "City not found. Skipping...\n",
      "Processing Record 4 of 8 | belaya gora\n",
      "Processing Record 5 of 8 | eston\n",
      "Processing Record 6 of 8 | dzhusaly\n",
      "City not found. Skipping...\n",
      "Processing Record 7 of 8 | banda aceh\n",
      "Processing Record 8 of 8 | baoqing\n",
      "Processing Record 9 of 8 | bandarbeyla\n",
      "Processing Record 10 of 8 | mazagao\n",
      "Processing Record 11 of 8 | bouillante\n",
      "Processing Record 12 of 8 | haifa\n",
      "Processing Record 13 of 8 | kattivakkam\n",
      "Processing Record 14 of 8 | portobelo\n",
      "Processing Record 15 of 8 | manjacaze\n",
      "Processing Record 16 of 8 | ozgon\n",
      "City not found. Skipping...\n",
      "Processing Record 17 of 8 | shaunavon\n",
      "Processing Record 18 of 8 | sambava\n",
      "Processing Record 19 of 8 | mayo\n",
      "Processing Record 20 of 8 | borskoye\n",
      "Processing Record 21 of 8 | bloomington\n",
      "Processing Record 22 of 8 | katherine\n",
      "Processing Record 23 of 8 | port hardy\n",
      "Processing Record 24 of 8 | mount gambier\n",
      "Processing Record 25 of 8 | coahuayana\n",
      "Processing Record 26 of 8 | poum\n",
      "Processing Record 27 of 8 | leningradskiy\n",
      "Processing Record 28 of 8 | bolama\n",
      "Processing Record 29 of 8 | omsukchan\n",
      "Processing Record 30 of 8 | longyan\n",
      "Processing Record 31 of 8 | shihezi\n",
      "Processing Record 32 of 8 | lufilufi\n",
      "Processing Record 33 of 8 | shellbrook\n",
      "Processing Record 34 of 8 | murbad\n",
      "Processing Record 35 of 8 | bayan\n",
      "Processing Record 36 of 8 | luderitz\n",
      "Processing Record 37 of 8 | belmonte\n",
      "Processing Record 38 of 8 | russell\n",
      "Processing Record 39 of 8 | aranda de duero\n",
      "Processing Record 40 of 8 | vila velha\n",
      "Processing Record 41 of 8 | mahibadhoo\n",
      "Processing Record 42 of 8 | cody\n",
      "Processing Record 43 of 8 | winneba\n",
      "Processing Record 44 of 8 | uvalde\n",
      "Processing Record 45 of 8 | abu dhabi\n",
      "Processing Record 46 of 8 | pokhara\n",
      "Processing Record 47 of 8 | benguela\n",
      "Processing Record 48 of 8 | bengkulu\n",
      "Processing Record 49 of 8 | igatpuri\n",
      "Processing Record 50 of 8 | pedro ii\n",
      "Processing Record 1 of 9 | constitucion\n",
      "Processing Record 2 of 9 | oksfjord\n",
      "Processing Record 3 of 9 | peleduy\n",
      "Processing Record 4 of 9 | east london\n",
      "Processing Record 5 of 9 | shar\n",
      "Processing Record 6 of 9 | quelimane\n",
      "Processing Record 7 of 9 | mogochin\n",
      "City not found. Skipping...\n",
      "Processing Record 8 of 9 | riyadh\n",
      "Processing Record 9 of 9 | bilibino\n",
      "Processing Record 10 of 9 | bowen\n",
      "Processing Record 11 of 9 | lolua\n",
      "City not found. Skipping...\n",
      "Processing Record 12 of 9 | saleaula\n",
      "City not found. Skipping...\n",
      "Processing Record 13 of 9 | baie-comeau\n",
      "Processing Record 14 of 9 | tateyama\n",
      "Processing Record 15 of 9 | prince rupert\n",
      "Processing Record 16 of 9 | saskylakh\n"
     ]
    },
    {
     "name": "stdout",
     "output_type": "stream",
     "text": [
      "Processing Record 17 of 9 | sao joao da barra\n",
      "Processing Record 18 of 9 | marrakesh\n",
      "Processing Record 19 of 9 | laramie\n",
      "Processing Record 20 of 9 | coquimbo\n",
      "Processing Record 21 of 9 | ksenyevka\n",
      "City not found. Skipping...\n",
      "Processing Record 22 of 9 | akureyri\n",
      "Processing Record 23 of 9 | aktash\n",
      "Processing Record 24 of 9 | dabhol\n",
      "Processing Record 25 of 9 | san pedro del pinatar\n",
      "Processing Record 26 of 9 | saint-augustin\n",
      "Processing Record 27 of 9 | yaan\n",
      "Processing Record 28 of 9 | haines junction\n",
      "Processing Record 29 of 9 | kpandu\n",
      "Processing Record 30 of 9 | hamilton\n",
      "Processing Record 31 of 9 | malinyi\n",
      "Processing Record 32 of 9 | gawler\n",
      "Processing Record 33 of 9 | cascais\n",
      "Processing Record 34 of 9 | jiayuguan\n",
      "Processing Record 35 of 9 | maniitsoq\n",
      "Processing Record 36 of 9 | tilichiki\n",
      "Processing Record 37 of 9 | sayat\n",
      "Processing Record 38 of 9 | bairnsdale\n",
      "Processing Record 39 of 9 | nuuk\n",
      "Processing Record 40 of 9 | aripuana\n",
      "Processing Record 41 of 9 | nakhon phanom\n",
      "Processing Record 42 of 9 | shieli\n",
      "Processing Record 43 of 9 | tidore\n",
      "City not found. Skipping...\n",
      "Processing Record 44 of 9 | bikin\n",
      "Processing Record 45 of 9 | kysyl-syr\n",
      "Processing Record 46 of 9 | frankenthal\n",
      "Processing Record 47 of 9 | dikson\n",
      "Processing Record 48 of 9 | rolim de moura\n",
      "City not found. Skipping...\n",
      "Processing Record 49 of 9 | biak\n",
      "Processing Record 50 of 9 | teahupoo\n",
      "Processing Record 1 of 10 | anadyr\n",
      "Processing Record 2 of 10 | kaeo\n",
      "Processing Record 3 of 10 | harindanga\n",
      "Processing Record 4 of 10 | balakhta\n",
      "Processing Record 5 of 10 | novyy urengoy\n",
      "Processing Record 6 of 10 | gat\n",
      "Processing Record 7 of 10 | tabou\n",
      "Processing Record 8 of 10 | nacogdoches\n",
      "Processing Record 9 of 10 | nome\n",
      "Processing Record 10 of 10 | roseburg\n",
      "Processing Record 11 of 10 | uruzgan\n",
      "Processing Record 12 of 10 | magaria\n",
      "Processing Record 13 of 10 | coari\n",
      "Processing Record 14 of 10 | cuiluan\n",
      "Processing Record 15 of 10 | asau\n",
      "Processing Record 16 of 10 | buraydah\n",
      "Processing Record 17 of 10 | springbok\n",
      "Processing Record 18 of 10 | rudraprayag\n",
      "Processing Record 19 of 10 | san andres\n",
      "Processing Record 20 of 10 | deer lake\n",
      "Processing Record 21 of 10 | grindavik\n",
      "Processing Record 22 of 10 | lakota\n",
      "Processing Record 23 of 10 | kirakira\n",
      "Processing Record 24 of 10 | jaboticabal\n",
      "Processing Record 25 of 10 | burica\n",
      "City not found. Skipping...\n",
      "Processing Record 26 of 10 | cortez\n",
      "Processing Record 27 of 10 | butimanu\n",
      "Processing Record 28 of 10 | ilulissat\n",
      "Processing Record 29 of 10 | huangmei\n",
      "Processing Record 30 of 10 | kampot\n",
      "Processing Record 31 of 10 | roverud\n",
      "Processing Record 32 of 10 | christchurch\n",
      "Processing Record 33 of 10 | baryshevo\n",
      "Processing Record 34 of 10 | labrea\n",
      "Processing Record 35 of 10 | jacareacanga\n",
      "Processing Record 36 of 10 | khatanga\n",
      "Processing Record 37 of 10 | namibe\n",
      "Processing Record 38 of 10 | asyut\n",
      "Processing Record 39 of 10 | shitanjing\n",
      "Processing Record 40 of 10 | marzuq\n",
      "Processing Record 41 of 10 | lompoc\n",
      "Processing Record 42 of 10 | nemuro\n",
      "Processing Record 43 of 10 | sungairaya\n",
      "Processing Record 44 of 10 | dwarka\n",
      "Processing Record 45 of 10 | kloulklubed\n",
      "Processing Record 46 of 10 | bolungarvik\n",
      "City not found. Skipping...\n",
      "Processing Record 47 of 10 | san rafael\n",
      "Processing Record 48 of 10 | marcona\n",
      "City not found. Skipping...\n",
      "Processing Record 49 of 10 | bereda\n",
      "Processing Record 50 of 10 | puri\n",
      "Processing Record 1 of 11 | mehamn\n",
      "Processing Record 2 of 11 | chake chake\n",
      "Processing Record 3 of 11 | parana\n",
      "Processing Record 4 of 11 | rosarito\n",
      "Processing Record 5 of 11 | ganzhou\n",
      "Processing Record 6 of 11 | inzer\n",
      "Processing Record 7 of 11 | dunayivtsi\n",
      "City not found. Skipping...\n",
      "Processing Record 8 of 11 | beringovskiy\n",
      "Processing Record 9 of 11 | akyab\n",
      "Processing Record 10 of 11 | mournies\n",
      "Processing Record 11 of 11 | launceston\n",
      "Processing Record 12 of 11 | sept-iles\n",
      "Processing Record 13 of 11 | garissa\n",
      "Processing Record 14 of 11 | kars\n",
      "Processing Record 15 of 11 | karratha\n",
      "Processing Record 16 of 11 | kapustin yar-1\n",
      "City not found. Skipping...\n",
      "Processing Record 17 of 11 | auki\n",
      "Processing Record 18 of 11 | avera\n",
      "Processing Record 19 of 11 | salta\n",
      "Processing Record 20 of 11 | merauke\n",
      "Processing Record 21 of 11 | kaz\n",
      "Processing Record 22 of 11 | wukari\n",
      "Processing Record 23 of 11 | thoen\n",
      "Processing Record 24 of 11 | canto do buriti\n",
      "Processing Record 25 of 11 | senanga\n",
      "Processing Record 26 of 11 | samarai\n",
      "Processing Record 27 of 11 | iberia\n",
      "Processing Record 28 of 11 | london\n",
      "Processing Record 29 of 11 | mareeba\n",
      "Processing Record 30 of 11 | izhma\n",
      "Processing Record 31 of 11 | esmeralda\n",
      "Processing Record 32 of 11 | puerto leguizamo\n",
      "Processing Record 33 of 11 | camopi\n",
      "Processing Record 34 of 11 | caraballeda\n",
      "Processing Record 35 of 11 | yendi\n",
      "Processing Record 36 of 11 | diamantino\n",
      "Processing Record 37 of 11 | gorno-chuyskiy\n",
      "City not found. Skipping...\n",
      "Processing Record 38 of 11 | sentyabrskiy\n",
      "City not found. Skipping...\n",
      "Processing Record 39 of 11 | melipilla\n",
      "Processing Record 40 of 11 | aasiaat\n",
      "Processing Record 41 of 11 | asfi\n",
      "Processing Record 42 of 11 | berlevag\n",
      "Processing Record 43 of 11 | tat\n",
      "Processing Record 44 of 11 | kuruman\n",
      "Processing Record 45 of 11 | stephenville\n",
      "Processing Record 46 of 11 | rudbar\n",
      "Processing Record 47 of 11 | bathsheba\n",
      "Processing Record 48 of 11 | odesa\n",
      "Processing Record 49 of 11 | stillwater\n",
      "Processing Record 50 of 11 | high level\n",
      "Processing Record 1 of 12 | oranjemund\n",
      "Processing Record 2 of 12 | teguldet\n",
      "Processing Record 3 of 12 | shubarkuduk\n",
      "Processing Record 4 of 12 | andenes\n",
      "Processing Record 5 of 12 | amahai\n",
      "Processing Record 6 of 12 | gamba\n",
      "Processing Record 7 of 12 | marawi\n",
      "Processing Record 8 of 12 | visby\n",
      "Processing Record 9 of 12 | port-gentil\n",
      "Processing Record 10 of 12 | trelew\n",
      "Processing Record 11 of 12 | daru\n",
      "Processing Record 12 of 12 | mayya\n",
      "Processing Record 13 of 12 | shrewsbury\n",
      "Processing Record 14 of 12 | gedo\n",
      "Processing Record 15 of 12 | chernogorsk\n",
      "Processing Record 16 of 12 | casa nova\n",
      "Processing Record 17 of 12 | bima\n",
      "Processing Record 18 of 12 | senador jose porfirio\n",
      "Processing Record 19 of 12 | walvis bay\n",
      "Processing Record 20 of 12 | bridgewater\n",
      "Processing Record 21 of 12 | zemio\n",
      "Processing Record 22 of 12 | omboue\n",
      "Processing Record 23 of 12 | puerto ayacucho\n",
      "Processing Record 24 of 12 | nara\n",
      "Processing Record 25 of 12 | kizukuri\n",
      "Processing Record 26 of 12 | moerai\n",
      "Processing Record 27 of 12 | siculeni\n",
      "Processing Record 28 of 12 | izoplit\n",
      "Processing Record 29 of 12 | kununurra\n",
      "Processing Record 30 of 12 | youkounkoun\n",
      "Processing Record 31 of 12 | ostrovnoy\n",
      "Processing Record 32 of 12 | rio de janeiro\n",
      "Processing Record 33 of 12 | acapulco\n",
      "Processing Record 34 of 12 | santa isabel do rio negro\n",
      "Processing Record 35 of 12 | pacific grove\n",
      "Processing Record 36 of 12 | hambantota\n",
      "Processing Record 37 of 12 | antalaha\n",
      "Processing Record 38 of 12 | port moresby\n",
      "Processing Record 39 of 12 | sujawal\n",
      "City not found. Skipping...\n",
      "Processing Record 40 of 12 | saqqez\n",
      "Processing Record 41 of 12 | concepcion\n",
      "Processing Record 42 of 12 | lichinga\n",
      "Processing Record 43 of 12 | mahajanga\n",
      "Processing Record 44 of 12 | cabedelo\n",
      "Processing Record 45 of 12 | bartlesville\n",
      "Processing Record 46 of 12 | santa rosa\n",
      "Processing Record 47 of 12 | sistranda\n",
      "Processing Record 48 of 12 | santa fe\n",
      "Processing Record 49 of 12 | carutapera\n",
      "Processing Record 50 of 12 | huilong\n",
      "Processing Record 1 of 13 | los llanos de aridane\n",
      "Processing Record 2 of 13 | comodoro rivadavia\n",
      "Processing Record 3 of 13 | tanabe\n",
      "Processing Record 4 of 13 | azimur\n",
      "City not found. Skipping...\n",
      "Processing Record 5 of 13 | cumanayagua\n",
      "Processing Record 6 of 13 | zaltan\n",
      "Processing Record 7 of 13 | tazmalt\n",
      "Processing Record 8 of 13 | galgani\n",
      "City not found. Skipping...\n",
      "Processing Record 9 of 13 | kieta\n"
     ]
    }
   ],
   "source": [
    "#creating parameters for API call\n",
    "key = \"&appid=\" + weather_api_key\n",
    "url = \"http://api.openweathermap.org/data/2.5/weather?q=\"\n",
    "\n",
    "print(\"Beginning Data Retrieval\")\n",
    "sets = 1\n",
    "number = 1\n",
    "\n",
    "\n",
    "for index,row in city_wx.iterrows():\n",
    "    query = f'http://api.openweathermap.org/data/2.5/weather?q={row[\"City\"]}&units=imperial{key}'\n",
    "    try:\n",
    "        weather_response = requests.get(query).json()\n",
    "        print(f'Processing Record {number} of {sets} | {row[\"City\"]}')\n",
    "\n",
    "        city_wx.loc[index,\"Lat\"] = weather_response['coord']['lat']\n",
    "        city_wx.loc[index,\"Lng\"] = weather_response['coord']['lon']\n",
    "        city_wx.loc[index,\"Max Temp\"] = weather_response['main']['temp_max']\n",
    "        city_wx.loc[index,\"Humidity\"] = weather_response['main']['humidity']\n",
    "        city_wx.loc[index,'Cloudiness'] = weather_response['clouds']['all']\n",
    "        city_wx.loc[index,\"Wind Speed\"] = weather_response['wind']['speed']\n",
    "        city_wx.loc[index,\"Country\"] = weather_response['sys']['country']\n",
    "        city_wx.loc[index,\"Date\"] = weather_response['dt']\n",
    "    \n",
    "    except:\n",
    "        print(\"City not found. Skipping...\")\n",
    "    \n",
    "    number += 1\n",
    "    if number == 51:\n",
    "          sets += 1\n",
    "          number = 1"
   ]
  },
  {
   "cell_type": "code",
   "execution_count": 14,
   "metadata": {
    "scrolled": false
   },
   "outputs": [
    {
     "data": {
      "text/html": [
       "<div>\n",
       "<style scoped>\n",
       "    .dataframe tbody tr th:only-of-type {\n",
       "        vertical-align: middle;\n",
       "    }\n",
       "\n",
       "    .dataframe tbody tr th {\n",
       "        vertical-align: top;\n",
       "    }\n",
       "\n",
       "    .dataframe thead th {\n",
       "        text-align: right;\n",
       "    }\n",
       "</style>\n",
       "<table border=\"1\" class=\"dataframe\">\n",
       "  <thead>\n",
       "    <tr style=\"text-align: right;\">\n",
       "      <th></th>\n",
       "      <th>City</th>\n",
       "      <th>Lat</th>\n",
       "      <th>Lng</th>\n",
       "      <th>Max Temp</th>\n",
       "      <th>Humidity</th>\n",
       "      <th>Cloudiness</th>\n",
       "      <th>Wind Speed</th>\n",
       "      <th>Country</th>\n",
       "      <th>Date</th>\n",
       "    </tr>\n",
       "  </thead>\n",
       "  <tbody>\n",
       "    <tr>\n",
       "      <th>0</th>\n",
       "      <td>praia da vitoria</td>\n",
       "      <td>38.7333</td>\n",
       "      <td>-27.0667</td>\n",
       "      <td>62.01</td>\n",
       "      <td>94</td>\n",
       "      <td>40</td>\n",
       "      <td>12.73</td>\n",
       "      <td>PT</td>\n",
       "      <td>1615084287</td>\n",
       "    </tr>\n",
       "    <tr>\n",
       "      <th>1</th>\n",
       "      <td>samusu</td>\n",
       "      <td>-33.65</td>\n",
       "      <td>115.333</td>\n",
       "      <td>73</td>\n",
       "      <td>76</td>\n",
       "      <td>13</td>\n",
       "      <td>1.99</td>\n",
       "      <td>AU</td>\n",
       "      <td>1615084248</td>\n",
       "    </tr>\n",
       "    <tr>\n",
       "      <th>2</th>\n",
       "      <td>albany</td>\n",
       "      <td>42.6001</td>\n",
       "      <td>-73.9662</td>\n",
       "      <td>23</td>\n",
       "      <td>55</td>\n",
       "      <td>3</td>\n",
       "      <td>1.01</td>\n",
       "      <td>US</td>\n",
       "      <td>1615084201</td>\n",
       "    </tr>\n",
       "    <tr>\n",
       "      <th>3</th>\n",
       "      <td>avarua</td>\n",
       "      <td>-21.2078</td>\n",
       "      <td>-159.775</td>\n",
       "      <td>78.8</td>\n",
       "      <td>94</td>\n",
       "      <td>75</td>\n",
       "      <td>14.97</td>\n",
       "      <td>CK</td>\n",
       "      <td>1615084339</td>\n",
       "    </tr>\n",
       "    <tr>\n",
       "      <th>4</th>\n",
       "      <td>hami</td>\n",
       "      <td>42.8</td>\n",
       "      <td>93.45</td>\n",
       "      <td>43.74</td>\n",
       "      <td>53</td>\n",
       "      <td>0</td>\n",
       "      <td>5.91</td>\n",
       "      <td>CN</td>\n",
       "      <td>1615084339</td>\n",
       "    </tr>\n",
       "    <tr>\n",
       "      <th>...</th>\n",
       "      <td>...</td>\n",
       "      <td>...</td>\n",
       "      <td>...</td>\n",
       "      <td>...</td>\n",
       "      <td>...</td>\n",
       "      <td>...</td>\n",
       "      <td>...</td>\n",
       "      <td>...</td>\n",
       "      <td>...</td>\n",
       "    </tr>\n",
       "    <tr>\n",
       "      <th>604</th>\n",
       "      <td>cumanayagua</td>\n",
       "      <td>22.1494</td>\n",
       "      <td>-80.2022</td>\n",
       "      <td>75.2</td>\n",
       "      <td>73</td>\n",
       "      <td>18</td>\n",
       "      <td>5.75</td>\n",
       "      <td>CU</td>\n",
       "      <td>1615084440</td>\n",
       "    </tr>\n",
       "    <tr>\n",
       "      <th>605</th>\n",
       "      <td>zaltan</td>\n",
       "      <td>32.947</td>\n",
       "      <td>11.8665</td>\n",
       "      <td>58.1</td>\n",
       "      <td>93</td>\n",
       "      <td>100</td>\n",
       "      <td>6.85</td>\n",
       "      <td>LY</td>\n",
       "      <td>1615084440</td>\n",
       "    </tr>\n",
       "    <tr>\n",
       "      <th>606</th>\n",
       "      <td>tazmalt</td>\n",
       "      <td>36.3868</td>\n",
       "      <td>4.3989</td>\n",
       "      <td>54.9</td>\n",
       "      <td>66</td>\n",
       "      <td>78</td>\n",
       "      <td>4.63</td>\n",
       "      <td>DZ</td>\n",
       "      <td>1615084440</td>\n",
       "    </tr>\n",
       "    <tr>\n",
       "      <th>607</th>\n",
       "      <td>galgani</td>\n",
       "      <td>-33.65</td>\n",
       "      <td>115.333</td>\n",
       "      <td>73</td>\n",
       "      <td>76</td>\n",
       "      <td>13</td>\n",
       "      <td>1.99</td>\n",
       "      <td>AU</td>\n",
       "      <td>1615084248</td>\n",
       "    </tr>\n",
       "    <tr>\n",
       "      <th>608</th>\n",
       "      <td>kieta</td>\n",
       "      <td>-6.2167</td>\n",
       "      <td>155.633</td>\n",
       "      <td>81.09</td>\n",
       "      <td>78</td>\n",
       "      <td>100</td>\n",
       "      <td>4.27</td>\n",
       "      <td>PG</td>\n",
       "      <td>1615084440</td>\n",
       "    </tr>\n",
       "  </tbody>\n",
       "</table>\n",
       "<p>609 rows × 9 columns</p>\n",
       "</div>"
      ],
      "text/plain": [
       "                 City      Lat      Lng Max Temp Humidity Cloudiness  \\\n",
       "0    praia da vitoria  38.7333 -27.0667    62.01       94         40   \n",
       "1              samusu   -33.65  115.333       73       76         13   \n",
       "2              albany  42.6001 -73.9662       23       55          3   \n",
       "3              avarua -21.2078 -159.775     78.8       94         75   \n",
       "4                hami     42.8    93.45    43.74       53          0   \n",
       "..                ...      ...      ...      ...      ...        ...   \n",
       "604       cumanayagua  22.1494 -80.2022     75.2       73         18   \n",
       "605            zaltan   32.947  11.8665     58.1       93        100   \n",
       "606           tazmalt  36.3868   4.3989     54.9       66         78   \n",
       "607           galgani   -33.65  115.333       73       76         13   \n",
       "608             kieta  -6.2167  155.633    81.09       78        100   \n",
       "\n",
       "    Wind Speed Country        Date  \n",
       "0        12.73      PT  1615084287  \n",
       "1         1.99      AU  1615084248  \n",
       "2         1.01      US  1615084201  \n",
       "3        14.97      CK  1615084339  \n",
       "4         5.91      CN  1615084339  \n",
       "..         ...     ...         ...  \n",
       "604       5.75      CU  1615084440  \n",
       "605       6.85      LY  1615084440  \n",
       "606       4.63      DZ  1615084440  \n",
       "607       1.99      AU  1615084248  \n",
       "608       4.27      PG  1615084440  \n",
       "\n",
       "[609 rows x 9 columns]"
      ]
     },
     "execution_count": 14,
     "metadata": {},
     "output_type": "execute_result"
    }
   ],
   "source": [
    "city_wx"
   ]
  },
  {
   "cell_type": "markdown",
   "metadata": {},
   "source": [
    "### Convert Raw Data to DataFrame\n",
    "* Export the city data into a .csv.\n",
    "* Display the DataFrame"
   ]
  },
  {
   "cell_type": "code",
   "execution_count": 18,
   "metadata": {},
   "outputs": [],
   "source": [
    "city_wx.to_csv(output_data)"
   ]
  },
  {
   "cell_type": "code",
   "execution_count": 21,
   "metadata": {},
   "outputs": [
    {
     "data": {
      "text/html": [
       "<div>\n",
       "<style scoped>\n",
       "    .dataframe tbody tr th:only-of-type {\n",
       "        vertical-align: middle;\n",
       "    }\n",
       "\n",
       "    .dataframe tbody tr th {\n",
       "        vertical-align: top;\n",
       "    }\n",
       "\n",
       "    .dataframe thead th {\n",
       "        text-align: right;\n",
       "    }\n",
       "</style>\n",
       "<table border=\"1\" class=\"dataframe\">\n",
       "  <thead>\n",
       "    <tr style=\"text-align: right;\">\n",
       "      <th></th>\n",
       "      <th>City</th>\n",
       "      <th>Lat</th>\n",
       "      <th>Lng</th>\n",
       "      <th>Max Temp</th>\n",
       "      <th>Humidity</th>\n",
       "      <th>Cloudiness</th>\n",
       "      <th>Wind Speed</th>\n",
       "      <th>Country</th>\n",
       "      <th>Date</th>\n",
       "    </tr>\n",
       "  </thead>\n",
       "  <tbody>\n",
       "    <tr>\n",
       "      <th>count</th>\n",
       "      <td>609</td>\n",
       "      <td>609.00</td>\n",
       "      <td>609.0000</td>\n",
       "      <td>609.0</td>\n",
       "      <td>609</td>\n",
       "      <td>609</td>\n",
       "      <td>609.00</td>\n",
       "      <td>609</td>\n",
       "      <td>609</td>\n",
       "    </tr>\n",
       "    <tr>\n",
       "      <th>unique</th>\n",
       "      <td>609</td>\n",
       "      <td>553.00</td>\n",
       "      <td>557.0000</td>\n",
       "      <td>362.0</td>\n",
       "      <td>79</td>\n",
       "      <td>84</td>\n",
       "      <td>274.00</td>\n",
       "      <td>116</td>\n",
       "      <td>172</td>\n",
       "    </tr>\n",
       "    <tr>\n",
       "      <th>top</th>\n",
       "      <td>sinnamary</td>\n",
       "      <td>-33.65</td>\n",
       "      <td>115.3333</td>\n",
       "      <td>73.0</td>\n",
       "      <td>76</td>\n",
       "      <td>0</td>\n",
       "      <td>1.99</td>\n",
       "      <td>AU</td>\n",
       "      <td>1615084248</td>\n",
       "    </tr>\n",
       "    <tr>\n",
       "      <th>freq</th>\n",
       "      <td>1</td>\n",
       "      <td>53.00</td>\n",
       "      <td>53.0000</td>\n",
       "      <td>55.0</td>\n",
       "      <td>67</td>\n",
       "      <td>100</td>\n",
       "      <td>58.00</td>\n",
       "      <td>75</td>\n",
       "      <td>54</td>\n",
       "    </tr>\n",
       "  </tbody>\n",
       "</table>\n",
       "</div>"
      ],
      "text/plain": [
       "             City     Lat       Lng  Max Temp  Humidity  Cloudiness  \\\n",
       "count         609  609.00  609.0000     609.0       609         609   \n",
       "unique        609  553.00  557.0000     362.0        79          84   \n",
       "top     sinnamary  -33.65  115.3333      73.0        76           0   \n",
       "freq            1   53.00   53.0000      55.0        67         100   \n",
       "\n",
       "        Wind Speed Country        Date  \n",
       "count       609.00     609         609  \n",
       "unique      274.00     116         172  \n",
       "top           1.99      AU  1615084248  \n",
       "freq         58.00      75          54  "
      ]
     },
     "execution_count": 21,
     "metadata": {},
     "output_type": "execute_result"
    }
   ],
   "source": [
    "city_wx.describe()"
   ]
  },
  {
   "cell_type": "markdown",
   "metadata": {},
   "source": [
    "## Inspect the data and remove the cities where the humidity > 100%.\n",
    "----\n",
    "Skip this step if there are no cities that have humidity > 100%. "
   ]
  },
  {
   "cell_type": "code",
   "execution_count": 25,
   "metadata": {},
   "outputs": [
    {
     "data": {
      "text/html": [
       "<div>\n",
       "<style scoped>\n",
       "    .dataframe tbody tr th:only-of-type {\n",
       "        vertical-align: middle;\n",
       "    }\n",
       "\n",
       "    .dataframe tbody tr th {\n",
       "        vertical-align: top;\n",
       "    }\n",
       "\n",
       "    .dataframe thead th {\n",
       "        text-align: right;\n",
       "    }\n",
       "</style>\n",
       "<table border=\"1\" class=\"dataframe\">\n",
       "  <thead>\n",
       "    <tr style=\"text-align: right;\">\n",
       "      <th></th>\n",
       "      <th>City</th>\n",
       "      <th>Lat</th>\n",
       "      <th>Lng</th>\n",
       "      <th>Max Temp</th>\n",
       "      <th>Humidity</th>\n",
       "      <th>Cloudiness</th>\n",
       "      <th>Wind Speed</th>\n",
       "      <th>Country</th>\n",
       "      <th>Date</th>\n",
       "    </tr>\n",
       "  </thead>\n",
       "  <tbody>\n",
       "  </tbody>\n",
       "</table>\n",
       "</div>"
      ],
      "text/plain": [
       "Empty DataFrame\n",
       "Columns: [City, Lat, Lng, Max Temp, Humidity, Cloudiness, Wind Speed, Country, Date]\n",
       "Index: []"
      ]
     },
     "execution_count": 25,
     "metadata": {},
     "output_type": "execute_result"
    }
   ],
   "source": [
    "humidity_gtr_100 = city_wx.loc[city_wx[\"Humidity\"] > 100]\n",
    "humidity_gtr_100"
   ]
  },
  {
   "cell_type": "code",
   "execution_count": 17,
   "metadata": {},
   "outputs": [
    {
     "data": {
      "text/plain": [
       "Int64Index([], dtype='int64')"
      ]
     },
     "execution_count": 17,
     "metadata": {},
     "output_type": "execute_result"
    }
   ],
   "source": [
    "#  Get the indices of cities that have humidity over 100%.\n"
   ]
  },
  {
   "cell_type": "code",
   "execution_count": 19,
   "metadata": {},
   "outputs": [
    {
     "data": {
      "text/html": [
       "<div>\n",
       "<style scoped>\n",
       "    .dataframe tbody tr th:only-of-type {\n",
       "        vertical-align: middle;\n",
       "    }\n",
       "\n",
       "    .dataframe tbody tr th {\n",
       "        vertical-align: top;\n",
       "    }\n",
       "\n",
       "    .dataframe thead th {\n",
       "        text-align: right;\n",
       "    }\n",
       "</style>\n",
       "<table border=\"1\" class=\"dataframe\">\n",
       "  <thead>\n",
       "    <tr style=\"text-align: right;\">\n",
       "      <th></th>\n",
       "      <th>City</th>\n",
       "      <th>Lat</th>\n",
       "      <th>Lng</th>\n",
       "      <th>Max Temp</th>\n",
       "      <th>Humidity</th>\n",
       "      <th>Cloudiness</th>\n",
       "      <th>Wind Speed</th>\n",
       "      <th>Country</th>\n",
       "      <th>Date</th>\n",
       "    </tr>\n",
       "  </thead>\n",
       "  <tbody>\n",
       "    <tr>\n",
       "      <td>0</td>\n",
       "      <td>butaritari</td>\n",
       "      <td>3.07</td>\n",
       "      <td>172.79</td>\n",
       "      <td>83.32</td>\n",
       "      <td>74</td>\n",
       "      <td>84</td>\n",
       "      <td>10.42</td>\n",
       "      <td>KI</td>\n",
       "      <td>1593605283</td>\n",
       "    </tr>\n",
       "    <tr>\n",
       "      <td>1</td>\n",
       "      <td>yerbogachen</td>\n",
       "      <td>61.28</td>\n",
       "      <td>108.01</td>\n",
       "      <td>79.52</td>\n",
       "      <td>58</td>\n",
       "      <td>20</td>\n",
       "      <td>7.70</td>\n",
       "      <td>RU</td>\n",
       "      <td>1593605121</td>\n",
       "    </tr>\n",
       "    <tr>\n",
       "      <td>2</td>\n",
       "      <td>cape town</td>\n",
       "      <td>-33.93</td>\n",
       "      <td>18.42</td>\n",
       "      <td>73.00</td>\n",
       "      <td>77</td>\n",
       "      <td>27</td>\n",
       "      <td>4.70</td>\n",
       "      <td>ZA</td>\n",
       "      <td>1593605039</td>\n",
       "    </tr>\n",
       "    <tr>\n",
       "      <td>3</td>\n",
       "      <td>touba</td>\n",
       "      <td>8.28</td>\n",
       "      <td>-7.68</td>\n",
       "      <td>79.97</td>\n",
       "      <td>75</td>\n",
       "      <td>82</td>\n",
       "      <td>3.58</td>\n",
       "      <td>CI</td>\n",
       "      <td>1593605284</td>\n",
       "    </tr>\n",
       "    <tr>\n",
       "      <td>4</td>\n",
       "      <td>jamestown</td>\n",
       "      <td>42.10</td>\n",
       "      <td>-79.24</td>\n",
       "      <td>64.00</td>\n",
       "      <td>88</td>\n",
       "      <td>1</td>\n",
       "      <td>6.93</td>\n",
       "      <td>US</td>\n",
       "      <td>1593605284</td>\n",
       "    </tr>\n",
       "  </tbody>\n",
       "</table>\n",
       "</div>"
      ],
      "text/plain": [
       "          City    Lat     Lng  Max Temp  Humidity  Cloudiness  Wind Speed  \\\n",
       "0   butaritari   3.07  172.79     83.32        74          84       10.42   \n",
       "1  yerbogachen  61.28  108.01     79.52        58          20        7.70   \n",
       "2    cape town -33.93   18.42     73.00        77          27        4.70   \n",
       "3        touba   8.28   -7.68     79.97        75          82        3.58   \n",
       "4    jamestown  42.10  -79.24     64.00        88           1        6.93   \n",
       "\n",
       "  Country        Date  \n",
       "0      KI  1593605283  \n",
       "1      RU  1593605121  \n",
       "2      ZA  1593605039  \n",
       "3      CI  1593605284  \n",
       "4      US  1593605284  "
      ]
     },
     "execution_count": 19,
     "metadata": {},
     "output_type": "execute_result"
    }
   ],
   "source": [
    "# Make a new DataFrame equal to the city data to drop all humidity outliers by index.\n",
    "# Passing \"inplace=False\" will make a copy of the city_data DataFrame, which we call \"clean_city_data\".\n"
   ]
  },
  {
   "cell_type": "code",
   "execution_count": 27,
   "metadata": {},
   "outputs": [
    {
     "data": {
      "text/html": [
       "<div>\n",
       "<style scoped>\n",
       "    .dataframe tbody tr th:only-of-type {\n",
       "        vertical-align: middle;\n",
       "    }\n",
       "\n",
       "    .dataframe tbody tr th {\n",
       "        vertical-align: top;\n",
       "    }\n",
       "\n",
       "    .dataframe thead th {\n",
       "        text-align: right;\n",
       "    }\n",
       "</style>\n",
       "<table border=\"1\" class=\"dataframe\">\n",
       "  <thead>\n",
       "    <tr style=\"text-align: right;\">\n",
       "      <th></th>\n",
       "      <th>City</th>\n",
       "      <th>Lat</th>\n",
       "      <th>Lng</th>\n",
       "      <th>Max Temp</th>\n",
       "      <th>Humidity</th>\n",
       "      <th>Cloudiness</th>\n",
       "      <th>Wind Speed</th>\n",
       "      <th>Country</th>\n",
       "      <th>Date</th>\n",
       "    </tr>\n",
       "  </thead>\n",
       "  <tbody>\n",
       "    <tr>\n",
       "      <th>0</th>\n",
       "      <td>praia da vitoria</td>\n",
       "      <td>38.7333</td>\n",
       "      <td>-27.0667</td>\n",
       "      <td>62.01</td>\n",
       "      <td>94</td>\n",
       "      <td>40</td>\n",
       "      <td>12.73</td>\n",
       "      <td>PT</td>\n",
       "      <td>1615084287</td>\n",
       "    </tr>\n",
       "    <tr>\n",
       "      <th>1</th>\n",
       "      <td>samusu</td>\n",
       "      <td>-33.65</td>\n",
       "      <td>115.333</td>\n",
       "      <td>73</td>\n",
       "      <td>76</td>\n",
       "      <td>13</td>\n",
       "      <td>1.99</td>\n",
       "      <td>AU</td>\n",
       "      <td>1615084248</td>\n",
       "    </tr>\n",
       "    <tr>\n",
       "      <th>2</th>\n",
       "      <td>albany</td>\n",
       "      <td>42.6001</td>\n",
       "      <td>-73.9662</td>\n",
       "      <td>23</td>\n",
       "      <td>55</td>\n",
       "      <td>3</td>\n",
       "      <td>1.01</td>\n",
       "      <td>US</td>\n",
       "      <td>1615084201</td>\n",
       "    </tr>\n",
       "    <tr>\n",
       "      <th>3</th>\n",
       "      <td>avarua</td>\n",
       "      <td>-21.2078</td>\n",
       "      <td>-159.775</td>\n",
       "      <td>78.8</td>\n",
       "      <td>94</td>\n",
       "      <td>75</td>\n",
       "      <td>14.97</td>\n",
       "      <td>CK</td>\n",
       "      <td>1615084339</td>\n",
       "    </tr>\n",
       "    <tr>\n",
       "      <th>4</th>\n",
       "      <td>hami</td>\n",
       "      <td>42.8</td>\n",
       "      <td>93.45</td>\n",
       "      <td>43.74</td>\n",
       "      <td>53</td>\n",
       "      <td>0</td>\n",
       "      <td>5.91</td>\n",
       "      <td>CN</td>\n",
       "      <td>1615084339</td>\n",
       "    </tr>\n",
       "  </tbody>\n",
       "</table>\n",
       "</div>"
      ],
      "text/plain": [
       "               City      Lat      Lng Max Temp Humidity Cloudiness Wind Speed  \\\n",
       "0  praia da vitoria  38.7333 -27.0667    62.01       94         40      12.73   \n",
       "1            samusu   -33.65  115.333       73       76         13       1.99   \n",
       "2            albany  42.6001 -73.9662       23       55          3       1.01   \n",
       "3            avarua -21.2078 -159.775     78.8       94         75      14.97   \n",
       "4              hami     42.8    93.45    43.74       53          0       5.91   \n",
       "\n",
       "  Country        Date  \n",
       "0      PT  1615084287  \n",
       "1      AU  1615084248  \n",
       "2      US  1615084201  \n",
       "3      CK  1615084339  \n",
       "4      CN  1615084339  "
      ]
     },
     "execution_count": 27,
     "metadata": {},
     "output_type": "execute_result"
    }
   ],
   "source": [
    "\n",
    "city_wx.head()"
   ]
  },
  {
   "cell_type": "markdown",
   "metadata": {},
   "source": [
    "## Plotting the Data\n",
    "* Use proper labeling of the plots using plot titles (including date of analysis) and axes labels.\n",
    "* Save the plotted figures as .pngs."
   ]
  },
  {
   "cell_type": "markdown",
   "metadata": {},
   "source": [
    "## Latitude vs. Temperature Plot"
   ]
  },
  {
   "cell_type": "code",
   "execution_count": 7,
   "metadata": {},
   "outputs": [
    {
     "data": {
      "text/html": [
       "<div>\n",
       "<style scoped>\n",
       "    .dataframe tbody tr th:only-of-type {\n",
       "        vertical-align: middle;\n",
       "    }\n",
       "\n",
       "    .dataframe tbody tr th {\n",
       "        vertical-align: top;\n",
       "    }\n",
       "\n",
       "    .dataframe thead th {\n",
       "        text-align: right;\n",
       "    }\n",
       "</style>\n",
       "<table border=\"1\" class=\"dataframe\">\n",
       "  <thead>\n",
       "    <tr style=\"text-align: right;\">\n",
       "      <th></th>\n",
       "      <th>Unnamed: 0</th>\n",
       "      <th>City</th>\n",
       "      <th>Lat</th>\n",
       "      <th>Lng</th>\n",
       "      <th>Max Temp</th>\n",
       "      <th>Humidity</th>\n",
       "      <th>Cloudiness</th>\n",
       "      <th>Wind Speed</th>\n",
       "      <th>Country</th>\n",
       "      <th>Date</th>\n",
       "    </tr>\n",
       "  </thead>\n",
       "  <tbody>\n",
       "    <tr>\n",
       "      <th>0</th>\n",
       "      <td>0</td>\n",
       "      <td>praia da vitoria</td>\n",
       "      <td>38.7333</td>\n",
       "      <td>-27.0667</td>\n",
       "      <td>62.01</td>\n",
       "      <td>94</td>\n",
       "      <td>40</td>\n",
       "      <td>12.73</td>\n",
       "      <td>PT</td>\n",
       "      <td>1615084287</td>\n",
       "    </tr>\n",
       "    <tr>\n",
       "      <th>1</th>\n",
       "      <td>1</td>\n",
       "      <td>samusu</td>\n",
       "      <td>-33.6500</td>\n",
       "      <td>115.3333</td>\n",
       "      <td>73.00</td>\n",
       "      <td>76</td>\n",
       "      <td>13</td>\n",
       "      <td>1.99</td>\n",
       "      <td>AU</td>\n",
       "      <td>1615084248</td>\n",
       "    </tr>\n",
       "    <tr>\n",
       "      <th>2</th>\n",
       "      <td>2</td>\n",
       "      <td>albany</td>\n",
       "      <td>42.6001</td>\n",
       "      <td>-73.9662</td>\n",
       "      <td>23.00</td>\n",
       "      <td>55</td>\n",
       "      <td>3</td>\n",
       "      <td>1.01</td>\n",
       "      <td>US</td>\n",
       "      <td>1615084201</td>\n",
       "    </tr>\n",
       "    <tr>\n",
       "      <th>3</th>\n",
       "      <td>3</td>\n",
       "      <td>avarua</td>\n",
       "      <td>-21.2078</td>\n",
       "      <td>-159.7750</td>\n",
       "      <td>78.80</td>\n",
       "      <td>94</td>\n",
       "      <td>75</td>\n",
       "      <td>14.97</td>\n",
       "      <td>CK</td>\n",
       "      <td>1615084339</td>\n",
       "    </tr>\n",
       "    <tr>\n",
       "      <th>4</th>\n",
       "      <td>4</td>\n",
       "      <td>hami</td>\n",
       "      <td>42.8000</td>\n",
       "      <td>93.4500</td>\n",
       "      <td>43.74</td>\n",
       "      <td>53</td>\n",
       "      <td>0</td>\n",
       "      <td>5.91</td>\n",
       "      <td>CN</td>\n",
       "      <td>1615084339</td>\n",
       "    </tr>\n",
       "  </tbody>\n",
       "</table>\n",
       "</div>"
      ],
      "text/plain": [
       "   Unnamed: 0              City      Lat       Lng  Max Temp  Humidity  \\\n",
       "0           0  praia da vitoria  38.7333  -27.0667     62.01        94   \n",
       "1           1            samusu -33.6500  115.3333     73.00        76   \n",
       "2           2            albany  42.6001  -73.9662     23.00        55   \n",
       "3           3            avarua -21.2078 -159.7750     78.80        94   \n",
       "4           4              hami  42.8000   93.4500     43.74        53   \n",
       "\n",
       "   Cloudiness  Wind Speed Country        Date  \n",
       "0          40       12.73      PT  1615084287  \n",
       "1          13        1.99      AU  1615084248  \n",
       "2           3        1.01      US  1615084201  \n",
       "3          75       14.97      CK  1615084339  \n",
       "4           0        5.91      CN  1615084339  "
      ]
     },
     "execution_count": 7,
     "metadata": {},
     "output_type": "execute_result"
    }
   ],
   "source": [
    "city_wx = pd.read_csv(output_data)\n",
    "city_wx.head()"
   ]
  },
  {
   "cell_type": "code",
   "execution_count": 6,
   "metadata": {},
   "outputs": [
    {
     "data": {
      "image/png": "[encoded data removed]",
      "text/plain": [
       "<Figure size 432x288 with 1 Axes>"
      ]
     },
     "metadata": {
      "needs_background": "light"
     },
     "output_type": "display_data"
    }
   ],
   "source": [
    "x_axis_lt = city_wx[\"Lat\"]\n",
    "y_axis_lt = city_wx[\"Max Temp\"]\n",
    "plt.scatter(x_axis_lt, y_axis_lt)\n",
    "plt.xlabel(\"Latitude\")\n",
    "plt.ylabel(\"Max Tempurature (F)\")\n",
    "plt.title(\"City Latitude vs. Max Tempurature\");"
   ]
  },
  {
   "cell_type": "markdown",
   "metadata": {},
   "source": [
    "## Latitude vs. Humidity Plot"
   ]
  },
  {
   "cell_type": "code",
   "execution_count": 9,
   "metadata": {},
   "outputs": [
    {
     "data": {
      "image/png": "[encoded data removed]",
      "text/plain": [
       "<Figure size 432x288 with 1 Axes>"
      ]
     },
     "metadata": {
      "needs_background": "light"
     },
     "output_type": "display_data"
    }
   ],
   "source": [
    "x_axis_lh = city_wx[\"Lat\"]\n",
    "y_axis_lh = city_wx[\"Humidity\"]\n",
    "plt.scatter(x_axis_lh, y_axis_lh)\n",
    "plt.xlabel(\"Latitude\")\n",
    "plt.ylabel(\"Humidity (%)\")\n",
    "plt.title(\"City Latitude vs. Humidity\");"
   ]
  },
  {
   "cell_type": "markdown",
   "metadata": {},
   "source": [
    "## Latitude vs. Cloudiness Plot"
   ]
  },
  {
   "cell_type": "code",
   "execution_count": 10,
   "metadata": {},
   "outputs": [
    {
     "data": {
      "image/png": "[encoded data removed]",
      "text/plain": [
       "<Figure size 432x288 with 1 Axes>"
      ]
     },
     "metadata": {
      "needs_background": "light"
     },
     "output_type": "display_data"
    }
   ],
   "source": [
    "x_axis_lc = city_wx[\"Lat\"]\n",
    "y_axis_lc = city_wx[\"Cloudiness\"]\n",
    "plt.scatter(x_axis_lc, y_axis_lc)\n",
    "plt.xlabel(\"Latitude\")\n",
    "plt.ylabel(\"Cloudiness (%)\")\n",
    "plt.title(\"City Latitude vs. Cloudiness\");"
   ]
  },
  {
   "cell_type": "markdown",
   "metadata": {},
   "source": [
    "## Latitude vs. Wind Speed Plot"
   ]
  },
  {
   "cell_type": "code",
   "execution_count": 11,
   "metadata": {},
   "outputs": [
    {
     "data": {
      "image/png": "[encoded data removed]",
      "text/plain": [
       "<Figure size 432x288 with 1 Axes>"
      ]
     },
     "metadata": {
      "needs_background": "light"
     },
     "output_type": "display_data"
    }
   ],
   "source": [
    "x_axis_lws = city_wx[\"Lat\"]\n",
    "y_axis_lws = city_wx[\"Wind Speed\"]\n",
    "plt.scatter(x_axis_lws, y_axis_lws)\n",
    "plt.xlabel(\"Latitude\")\n",
    "plt.ylabel(\"Wind Speed (mph)\")\n",
    "plt.title(\"City Latitude vs. Cloudiness\");"
   ]
  },
  {
   "cell_type": "markdown",
   "metadata": {},
   "source": [
    "## Linear Regression"
   ]
  },
  {
   "cell_type": "code",
   "execution_count": 14,
   "metadata": {},
   "outputs": [],
   "source": [
    "#seperates data frame into norhtern and southern hemispheres\n",
    "northern_city_wx = city_wx[city_wx[\"Lat\"]>=0]\n",
    "southern_city_wx = city_wx[city_wx[\"Lat\"]<0]"
   ]
  },
  {
   "cell_type": "markdown",
   "metadata": {},
   "source": [
    "####  Northern Hemisphere - Max Temp vs. Latitude Linear Regression"
   ]
  },
  {
   "cell_type": "code",
   "execution_count": 19,
   "metadata": {},
   "outputs": [
    {
     "name": "stdout",
     "output_type": "stream",
     "text": [
      "The r-squared value is: 0.8036372639335722\n"
     ]
    },
    {
     "data": {
      "image/png": "[encoded data removed]",
      "text/plain": [
       "<Figure size 432x288 with 1 Axes>"
      ]
     },
     "metadata": {
      "needs_background": "light"
     },
     "output_type": "display_data"
    }
   ],
   "source": [
    "north_lats = northern_city_wx[\"Lat\"]\n",
    "north_temps = northern_city_wx[\"Max Temp\"]\n",
    "\n",
    "(slope, intercept, rvalue, pvalue, stderr) = linregress(north_lats, north_temps)\n",
    "\n",
    "regress_values = north_lats * slope + intercept\n",
    "line_eq = \"y = \" + str(round(slope,2)) + \"x + \" + str(round(intercept,2))\n",
    "\n",
    "plt.scatter(north_lats, north_temps)\n",
    "plt.plot(north_lats, regress_values, \"r-\")\n",
    "plt.annotate(line_eq,(10,0),fontsize=15,color=\"red\")\n",
    "print(f\"The r-squared value is: {rvalue**2}\")\n",
    "plt.xlabel(\"Latitude\")\n",
    "plt.ylabel(\"Max Temp (F)\")\n",
    "plt.title(\"Northern Hempisphere - Max Temp vs. Latitude\")\n",
    "plt.savefig(\"../Output Data File/Norther Hemisphere Max Temps.png\")"
   ]
  },
  {
   "cell_type": "code",
   "execution_count": 25,
   "metadata": {},
   "outputs": [
    {
     "name": "stdout",
     "output_type": "stream",
     "text": [
      "The r-value is: 0.46937863826630627\n"
     ]
    },
    {
     "data": {
      "image/png": "[encoded data removed]",
      "text/plain": [
       "<Figure size 432x288 with 1 Axes>"
      ]
     },
     "metadata": {
      "needs_background": "light"
     },
     "output_type": "display_data"
    }
   ],
   "source": []
  },
  {
   "cell_type": "markdown",
   "metadata": {},
   "source": [
    "####  Southern Hemisphere - Max Temp vs. Latitude Linear Regression"
   ]
  },
  {
   "cell_type": "code",
   "execution_count": 26,
   "metadata": {},
   "outputs": [
    {
     "name": "stdout",
     "output_type": "stream",
     "text": [
      "The r-value is: 0.6082708688906918\n"
     ]
    },
    {
     "data": {
      "image/png": "[encoded data removed]",
      "text/plain": [
       "<Figure size 432x288 with 1 Axes>"
      ]
     },
     "metadata": {
      "needs_background": "light"
     },
     "output_type": "display_data"
    }
   ],
   "source": []
  },
  {
   "cell_type": "markdown",
   "metadata": {},
   "source": [
    "####  Northern Hemisphere - Humidity (%) vs. Latitude Linear Regression"
   ]
  },
  {
   "cell_type": "code",
   "execution_count": 27,
   "metadata": {},
   "outputs": [
    {
     "name": "stdout",
     "output_type": "stream",
     "text": [
      "The r-value is: 0.000543987878808455\n"
     ]
    },
    {
     "data": {
      "image/png": "[encoded data removed]",
      "text/plain": [
       "<Figure size 432x288 with 1 Axes>"
      ]
     },
     "metadata": {
      "needs_background": "light"
     },
     "output_type": "display_data"
    }
   ],
   "source": []
  },
  {
   "cell_type": "markdown",
   "metadata": {},
   "source": [
    "####  Southern Hemisphere - Humidity (%) vs. Latitude Linear Regression"
   ]
  },
  {
   "cell_type": "code",
   "execution_count": 28,
   "metadata": {},
   "outputs": [
    {
     "name": "stdout",
     "output_type": "stream",
     "text": [
      "The r-value is: 0.014985174297345524\n"
     ]
    },
    {
     "data": {
      "image/png": "[encoded data removed]",
      "text/plain": [
       "<Figure size 432x288 with 1 Axes>"
      ]
     },
     "metadata": {
      "needs_background": "light"
     },
     "output_type": "display_data"
    }
   ],
   "source": []
  },
  {
   "cell_type": "markdown",
   "metadata": {},
   "source": [
    "####  Northern Hemisphere - Cloudiness (%) vs. Latitude Linear Regression"
   ]
  },
  {
   "cell_type": "code",
   "execution_count": 29,
   "metadata": {},
   "outputs": [
    {
     "name": "stdout",
     "output_type": "stream",
     "text": [
      "The r-value is: 0.0020898727664228514\n"
     ]
    },
    {
     "data": {
      "image/png": "[encoded data removed]",
      "text/plain": [
       "<Figure size 432x288 with 1 Axes>"
      ]
     },
     "metadata": {
      "needs_background": "light"
     },
     "output_type": "display_data"
    }
   ],
   "source": []
  },
  {
   "cell_type": "markdown",
   "metadata": {},
   "source": [
    "####  Southern Hemisphere - Cloudiness (%) vs. Latitude Linear Regression"
   ]
  },
  {
   "cell_type": "code",
   "execution_count": 30,
   "metadata": {},
   "outputs": [
    {
     "name": "stdout",
     "output_type": "stream",
     "text": [
      "The r-value is: 0.0035263772085582894\n"
     ]
    },
    {
     "data": {
      "image/png": "[encoded data removed]",
      "text/plain": [
       "<Figure size 432x288 with 1 Axes>"
      ]
     },
     "metadata": {
      "needs_background": "light"
     },
     "output_type": "display_data"
    }
   ],
   "source": []
  },
  {
   "cell_type": "markdown",
   "metadata": {},
   "source": [
    "####  Northern Hemisphere - Wind Speed (mph) vs. Latitude Linear Regression"
   ]
  },
  {
   "cell_type": "code",
   "execution_count": 31,
   "metadata": {},
   "outputs": [
    {
     "name": "stdout",
     "output_type": "stream",
     "text": [
      "The r-value is: 0.04019723576144484\n"
     ]
    },
    {
     "data": {
      "image/png": "[encoded data removed]",
      "text/plain": [
       "<Figure size 432x288 with 1 Axes>"
      ]
     },
     "metadata": {
      "needs_background": "light"
     },
     "output_type": "display_data"
    }
   ],
   "source": []
  },
  {
   "cell_type": "markdown",
   "metadata": {},
   "source": [
    "####  Southern Hemisphere - Wind Speed (mph) vs. Latitude Linear Regression"
   ]
  },
  {
   "cell_type": "code",
   "execution_count": 32,
   "metadata": {},
   "outputs": [
    {
     "name": "stdout",
     "output_type": "stream",
     "text": [
      "The r-value is: 0.017128274759839232\n"
     ]
    },
    {
     "data": {
      "image/png": "[encoded data removed]",
      "text/plain": [
       "<Figure size 432x288 with 1 Axes>"
      ]
     },
     "metadata": {
      "needs_background": "light"
     },
     "output_type": "display_data"
    }
   ],
   "source": []
  },
  {
   "cell_type": "code",
   "execution_count": null,
   "metadata": {},
   "outputs": [],
   "source": []
  }
 ],
 "metadata": {
  "anaconda-cloud": {},
  "kernel_info": {
   "name": "python3"
  },
  "kernelspec": {
   "display_name": "Python 3",
   "language": "python",
   "name": "python3"
  },
  "language_info": {
   "codemirror_mode": {
    "name": "ipython",
    "version": 3
   },
   "file_extension": ".py",
   "mimetype": "text/x-python",
   "name": "python",
   "nbconvert_exporter": "python",
   "pygments_lexer": "ipython3",
   "version": "3.7.9"
  },
  "latex_envs": {
   "LaTeX_envs_menu_present": true,
   "autoclose": false,
   "autocomplete": true,
   "bibliofile": "biblio.bib",
   "cite_by": "apalike",
   "current_citInitial": 1,
   "eqLabelWithNumbers": true,
   "eqNumInitial": 1,
   "hotkeys": {
    "equation": "Ctrl-E",
    "itemize": "Ctrl-I"
   },
   "labels_anchors": false,
   "latex_user_defs": false,
   "report_style_numbering": false,
   "user_envs_cfg": false
  },
  "nteract": {
   "version": "0.12.3"
  }
 },
 "nbformat": 4,
 "nbformat_minor": 2
}
